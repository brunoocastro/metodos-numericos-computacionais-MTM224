{
 "cells": [
  {
   "cell_type": "code",
   "execution_count": 1,
   "metadata": {},
   "outputs": [],
   "source": [
    "import numpy as np\n",
    "from lib.sis_eq_lin.gauss_jacobi import MetodoIterativoGaussJacobi  "
   ]
  },
  {
   "cell_type": "code",
   "execution_count": 2,
   "metadata": {},
   "outputs": [],
   "source": [
    "matrizA = np.array([\n",
    "  [10,1,1],\n",
    "  [1,10,1],\n",
    "  [1,1,10]\n",
    "])\n",
    "\n",
    "vetorB = np.array([12,12,12])"
   ]
  },
  {
   "cell_type": "code",
   "execution_count": 3,
   "metadata": {},
   "outputs": [],
   "source": [
    "metodo = MetodoIterativoGaussJacobi(matrizA, vetorB, 1e-10)"
   ]
  },
  {
   "cell_type": "code",
   "execution_count": 4,
   "metadata": {},
   "outputs": [
    {
     "name": "stdout",
     "output_type": "stream",
     "text": [
      "C Matrix:\n",
      " [[ 0.  -0.1 -0.1]\n",
      " [-0.1  0.  -0.1]\n",
      " [-0.1 -0.1  0. ]]\n",
      "G Vector:\n",
      " [1.2 1.2 1.2]\n",
      "Alfa: [0. 0. 0.]\n",
      "Alfa dps de computar: [0.2 0.2 0.2]\n",
      "Max alfa: 0.2\n",
      "The matrix C is convergent.\n",
      "\n",
      "Iteracao: 1\n",
      "Verificando criterio de parada:\n",
      "Diff: 1.0 | Tolerance: 1e-10\n",
      "\n",
      "Iteracao: 2\n",
      "Verificando criterio de parada:\n",
      "Diff: 0.25 | Tolerance: 1e-10\n",
      "\n",
      "Iteracao: 3\n",
      "Verificando criterio de parada:\n",
      "Diff: 0.04761904761904766 | Tolerance: 1e-10\n",
      "\n",
      "Iteracao: 4\n",
      "Verificando criterio de parada:\n",
      "Diff: 0.00961538461538467 | Tolerance: 1e-10\n",
      "\n",
      "Iteracao: 5\n",
      "Verificando criterio de parada:\n",
      "Diff: 0.0019193857965450277 | Tolerance: 1e-10\n",
      "\n",
      "Iteracao: 6\n",
      "Verificando criterio de parada:\n",
      "Diff: 0.00038402457757290466 | Tolerance: 1e-10\n",
      "\n",
      "Iteracao: 7\n",
      "Verificando criterio de parada:\n",
      "Diff: 7.679901697257075e-05 | Tolerance: 1e-10\n",
      "\n",
      "Iteracao: 8\n",
      "Verificando criterio de parada:\n",
      "Diff: 1.5360039321720466e-05 | Tolerance: 1e-10\n",
      "\n",
      "Iteracao: 9\n",
      "Verificando criterio de parada:\n",
      "Diff: 3.0719984274072186e-06 | Tolerance: 1e-10\n",
      "\n",
      "Iteracao: 10\n",
      "Verificando criterio de parada:\n",
      "Diff: 6.144000630130581e-07 | Tolerance: 1e-10\n",
      "\n",
      "Iteracao: 11\n",
      "Verificando criterio de parada:\n",
      "Diff: 1.228799973254803e-07 | Tolerance: 1e-10\n",
      "\n",
      "Iteracao: 12\n",
      "Verificando criterio de parada:\n",
      "Diff: 2.4576000002462445e-08 | Tolerance: 1e-10\n",
      "\n",
      "Iteracao: 13\n",
      "Verificando criterio de parada:\n",
      "Diff: 4.915200020742219e-09 | Tolerance: 1e-10\n",
      "\n",
      "Iteracao: 14\n",
      "Verificando criterio de parada:\n",
      "Diff: 9.830399829103509e-10 | Tolerance: 1e-10\n",
      "\n",
      "Iteracao: 15\n",
      "Verificando criterio de parada:\n",
      "Diff: 1.9660795213449451e-10 | Tolerance: 1e-10\n",
      "\n",
      "Iteracao: 16\n",
      "Verificando criterio de parada:\n",
      "Diff: 3.932165704182657e-11 | Tolerance: 1e-10\n",
      "Finish by finding tolerance - in 16 iterations\n",
      "Converged in 16 iterations.\n"
     ]
    },
    {
     "data": {
      "text/plain": [
       "array([1., 1., 1.])"
      ]
     },
     "execution_count": 4,
     "metadata": {},
     "output_type": "execute_result"
    }
   ],
   "source": [
    "metodo.solve()"
   ]
  },
  {
   "cell_type": "code",
   "execution_count": 5,
   "metadata": {},
   "outputs": [
    {
     "data": {
      "text/plain": [
       "array([1., 1., 1.])"
      ]
     },
     "execution_count": 5,
     "metadata": {},
     "output_type": "execute_result"
    }
   ],
   "source": [
    "metodo.solution"
   ]
  }
 ],
 "metadata": {
  "kernelspec": {
   "display_name": "Python 3",
   "language": "python",
   "name": "python3"
  },
  "language_info": {
   "codemirror_mode": {
    "name": "ipython",
    "version": 3
   },
   "file_extension": ".py",
   "mimetype": "text/x-python",
   "name": "python",
   "nbconvert_exporter": "python",
   "pygments_lexer": "ipython3",
   "version": "3.10.12"
  }
 },
 "nbformat": 4,
 "nbformat_minor": 2
}
