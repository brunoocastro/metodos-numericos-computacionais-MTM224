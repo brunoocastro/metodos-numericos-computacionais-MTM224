{
 "cells": [
  {
   "cell_type": "code",
   "execution_count": 1,
   "metadata": {},
   "outputs": [],
   "source": [
    "import numpy as np\n",
    "from lib.interpolacao.interpolacao import MetodoInterpolacaoPolinomial"
   ]
  },
  {
   "cell_type": "code",
   "execution_count": 2,
   "metadata": {},
   "outputs": [],
   "source": [
    "X = [1,2,3,5,7,8]\n",
    "Y = [1,3.5,5,5.5,6.3,8]"
   ]
  },
  {
   "cell_type": "code",
   "execution_count": 3,
   "metadata": {},
   "outputs": [],
   "source": [
    "interpolacao = MetodoInterpolacaoPolinomial(X, Y)"
   ]
  },
  {
   "cell_type": "code",
   "execution_count": 4,
   "metadata": {},
   "outputs": [
    {
     "name": "stdout",
     "output_type": "stream",
     "text": [
      "Solution Matrix:\n",
      "[[ 1.00000000e+00  1.00000000e+00  1.00000000e+00  1.00000000e+00\n",
      "   1.00000000e+00  1.00000000e+00  1.00000000e+00]\n",
      " [ 0.00000000e+00  7.00000000e+00  6.30000000e+01  5.11000000e+02\n",
      "   4.09500000e+03  3.27670000e+04  7.00000000e+00]\n",
      " [ 0.00000000e+00  0.00000000e+00 -1.20000000e+01 -1.68000000e+02\n",
      "  -1.71600000e+03 -1.56000000e+04  5.00000000e-01]\n",
      " [ 0.00000000e+00  0.00000000e+00  0.00000000e+00  2.00000000e+01\n",
      "   3.40000000e+02  3.88000000e+03  1.58333333e+00]\n",
      " [ 0.00000000e+00  0.00000000e+00  0.00000000e+00  0.00000000e+00\n",
      "  -4.80000000e+01 -1.15200000e+03 -2.22044605e-16]\n",
      " [ 0.00000000e+00  0.00000000e+00  0.00000000e+00  0.00000000e+00\n",
      "   0.00000000e+00  9.00000000e+01 -1.75000000e-01]]\n",
      "AUpper:\n",
      "[[ 1.0000e+00  1.0000e+00  1.0000e+00  1.0000e+00  1.0000e+00  1.0000e+00]\n",
      " [ 0.0000e+00  7.0000e+00  6.3000e+01  5.1100e+02  4.0950e+03  3.2767e+04]\n",
      " [ 0.0000e+00  0.0000e+00 -1.2000e+01 -1.6800e+02 -1.7160e+03 -1.5600e+04]\n",
      " [ 0.0000e+00  0.0000e+00  0.0000e+00  2.0000e+01  3.4000e+02  3.8800e+03]\n",
      " [ 0.0000e+00  0.0000e+00  0.0000e+00  0.0000e+00 -4.8000e+01 -1.1520e+03]\n",
      " [ 0.0000e+00  0.0000e+00  0.0000e+00  0.0000e+00  0.0000e+00  9.0000e+01]]\n",
      "BUpper:\n",
      "[[ 1.00000000e+00]\n",
      " [ 7.00000000e+00]\n",
      " [ 5.00000000e-01]\n",
      " [ 1.58333333e+00]\n",
      " [-2.22044605e-16]\n",
      " [-1.75000000e-01]]\n",
      "(6, 1) (6, 6)\n",
      "Matriz é triangular superior\n",
      "Received Matrix A:\n",
      "[[ 1.0000e+00  1.0000e+00  1.0000e+00  1.0000e+00  1.0000e+00  1.0000e+00]\n",
      " [ 0.0000e+00  7.0000e+00  6.3000e+01  5.1100e+02  4.0950e+03  3.2767e+04]\n",
      " [ 0.0000e+00  0.0000e+00 -1.2000e+01 -1.6800e+02 -1.7160e+03 -1.5600e+04]\n",
      " [ 0.0000e+00  0.0000e+00  0.0000e+00  2.0000e+01  3.4000e+02  3.8800e+03]\n",
      " [ 0.0000e+00  0.0000e+00  0.0000e+00  0.0000e+00 -4.8000e+01 -1.1520e+03]\n",
      " [ 0.0000e+00  0.0000e+00  0.0000e+00  0.0000e+00  0.0000e+00  9.0000e+01]]\n",
      "Received Vector B:\n",
      "[[ 1.        ]\n",
      " [ 7.        ]\n",
      " [ 0.5       ]\n",
      " [ 1.58333333]\n",
      " [ 0.        ]\n",
      " [-0.175     ]]\n",
      "Variation interval for I: range(4, -1, -1)                  with shape (0,5)\n",
      "Variation Interval for J: range(1, 6)\n",
      "Initial Solution: [ 0.          0.          0.          0.          0.         -0.00194444]\n",
      "i: 4\n",
      "i: 4, j: 5, sum: 2.2399999999999993\n",
      "Solution:\n",
      "[ 0.          0.          0.          0.          0.04666667 -0.00194444]\n",
      "\n",
      "i: 3\n",
      "i: 3, j: 4, sum: 15.866666666666662\n",
      "i: 3, j: 5, sum: 8.32222222222222\n",
      "Solution:\n",
      "[ 0.          0.          0.         -0.33694444  0.04666667 -0.00194444]\n",
      "\n",
      "i: 2\n",
      "i: 2, j: 3, sum: 56.60666666666665\n",
      "i: 2, j: 4, sum: -23.473333333333336\n",
      "i: 2, j: 5, sum: 6.859999999999989\n",
      "Solution:\n",
      "[ 0.          0.          0.53       -0.33694444  0.04666667 -0.00194444]\n",
      "\n",
      "i: 1\n",
      "i: 1, j: 2, sum: 33.38999999999994\n",
      "i: 1, j: 3, sum: -138.78861111111112\n",
      "i: 1, j: 4, sum: 52.31138888888884\n",
      "i: 1, j: 5, sum: -11.40222222222225\n",
      "Solution:\n",
      "[ 0.00000000e+00  2.62888889e+00  5.30000000e-01 -3.36944444e-01\n",
      "  4.66666667e-02 -1.94444444e-03]\n",
      "\n",
      "i: 0\n",
      "i: 0, j: 1, sum: 2.6288888888888926\n",
      "i: 0, j: 2, sum: 3.1588888888888915\n",
      "i: 0, j: 3, sum: 2.8219444444444473\n",
      "i: 0, j: 4, sum: 2.868611111111114\n",
      "i: 0, j: 5, sum: 2.86666666666667\n",
      "Solution:\n",
      "[-1.86666667e+00  2.62888889e+00  5.30000000e-01 -3.36944444e-01\n",
      "  4.66666667e-02 -1.94444444e-03]\n",
      "\n",
      "Solution: [-1.8667e+00  2.6289e+00  5.3000e-01 -3.3690e-01  4.6700e-02 -1.9000e-03]\n",
      "Coeficientes do Polinômio: [-1.8667e+00  2.6289e+00  5.3000e-01 -3.3690e-01  4.6700e-02 -1.9000e-03]\n"
     ]
    }
   ],
   "source": [
    "interpolacao.fitPolynomial()"
   ]
  },
  {
   "cell_type": "code",
   "execution_count": 5,
   "metadata": {},
   "outputs": [
    {
     "data": {
      "image/png": "[encoded data removed]",
      "text/plain": [
       "<Figure size 640x480 with 1 Axes>"
      ]
     },
     "metadata": {},
     "output_type": "display_data"
    }
   ],
   "source": [
    "interpolacao.plotDataAndFit()"
   ]
  },
  {
   "cell_type": "markdown",
   "metadata": {},
   "source": [
    "# Apresentacao Interpolacao\n",
    "\n",
    "Funcao e**x que foi interpolada"
   ]
  },
  {
   "cell_type": "code",
   "execution_count": 6,
   "metadata": {},
   "outputs": [],
   "source": [
    "X = [2.4,2.6,2.8,3,3.2,3.4,3.6,3.8]\n",
    "Y = [11.02,13.46,16.44,20.08,24.53,29.96, 36.59, 44.7]"
   ]
  },
  {
   "cell_type": "code",
   "execution_count": 7,
   "metadata": {},
   "outputs": [],
   "source": [
    "ex = MetodoInterpolacaoPolinomial(X,Y)"
   ]
  },
  {
   "cell_type": "code",
   "execution_count": 8,
   "metadata": {},
   "outputs": [
    {
     "name": "stdout",
     "output_type": "stream",
     "text": [
      "Solution Matrix:\n",
      "[[ 1.00000000e+00  2.40000000e+00  5.76000000e+00  1.38240000e+01\n",
      "   3.31776000e+01  7.96262400e+01  1.91102976e+02  4.58647142e+02\n",
      "   1.10200000e+01]\n",
      " [ 0.00000000e+00  1.40000000e+00  8.68000000e+00  4.10480000e+01\n",
      "   1.75336000e+02  7.12725440e+02  2.81983341e+03  1.09829111e+04\n",
      "   3.36800000e+01]\n",
      " [ 0.00000000e+00  0.00000000e+00 -4.80000000e-01 -4.41600000e+00\n",
      "  -2.73216000e+01 -1.42080000e+02 -6.70603008e+02 -2.97860905e+03\n",
      "  -5.37428571e+00]\n",
      " [ 0.00000000e+00  0.00000000e+00  0.00000000e+00 -1.60000000e-01\n",
      "  -2.01600000e+00 -1.59616000e+01 -1.01629440e+02 -5.69074432e+02\n",
      "  -6.38571429e-01]\n",
      " [ 0.00000000e+00  0.00000000e+00  0.00000000e+00  0.00000000e+00\n",
      "  -7.68000000e-02 -1.16736000e+00 -1.06967040e+01 -7.65935616e+01\n",
      "  -6.74285714e-02]\n",
      " [ 0.00000000e+00  0.00000000e+00  0.00000000e+00  0.00000000e+00\n",
      "   0.00000000e+00 -2.88000000e-02 -5.41440000e-01 -5.96044800e+00\n",
      "  -1.14285714e-02]\n",
      " [ 0.00000000e+00  5.55111512e-17  0.00000000e+00 -1.38777878e-17\n",
      "   0.00000000e+00  0.00000000e+00  7.68000000e-03  1.65888000e-01\n",
      "   2.38095238e-03]\n",
      " [ 0.00000000e+00  3.33066908e-17  0.00000000e+00 -8.32667269e-18\n",
      "   0.00000000e+00  0.00000000e+00  0.00000000e+00 -1.84319998e-03\n",
      "   1.71428572e-03]]\n",
      "AUpper:\n",
      "[[ 1.00000000e+00  2.40000000e+00  5.76000000e+00  1.38240000e+01\n",
      "   3.31776000e+01  7.96262400e+01  1.91102976e+02  4.58647142e+02]\n",
      " [ 0.00000000e+00  1.40000000e+00  8.68000000e+00  4.10480000e+01\n",
      "   1.75336000e+02  7.12725440e+02  2.81983341e+03  1.09829111e+04]\n",
      " [ 0.00000000e+00  0.00000000e+00 -4.80000000e-01 -4.41600000e+00\n",
      "  -2.73216000e+01 -1.42080000e+02 -6.70603008e+02 -2.97860905e+03]\n",
      " [ 0.00000000e+00  0.00000000e+00  0.00000000e+00 -1.60000000e-01\n",
      "  -2.01600000e+00 -1.59616000e+01 -1.01629440e+02 -5.69074432e+02]\n",
      " [ 0.00000000e+00  0.00000000e+00  0.00000000e+00  0.00000000e+00\n",
      "  -7.68000000e-02 -1.16736000e+00 -1.06967040e+01 -7.65935616e+01]\n",
      " [ 0.00000000e+00  0.00000000e+00  0.00000000e+00  0.00000000e+00\n",
      "   0.00000000e+00 -2.88000000e-02 -5.41440000e-01 -5.96044800e+00]\n",
      " [ 0.00000000e+00  5.55111512e-17  0.00000000e+00 -1.38777878e-17\n",
      "   0.00000000e+00  0.00000000e+00  7.68000000e-03  1.65888000e-01]\n",
      " [ 0.00000000e+00  3.33066908e-17  0.00000000e+00 -8.32667269e-18\n",
      "   0.00000000e+00  0.00000000e+00  0.00000000e+00 -1.84319998e-03]]\n",
      "BUpper:\n",
      "[[ 1.10200000e+01]\n",
      " [ 3.36800000e+01]\n",
      " [-5.37428571e+00]\n",
      " [-6.38571429e-01]\n",
      " [-6.74285714e-02]\n",
      " [-1.14285714e-02]\n",
      " [ 2.38095238e-03]\n",
      " [ 1.71428572e-03]]\n",
      "(8, 1) (8, 8)\n",
      "Matriz é triangular superior\n",
      "Received Matrix A:\n",
      "[[ 1.00000000e+00  2.40000000e+00  5.76000000e+00  1.38240000e+01\n",
      "   3.31776000e+01  7.96262400e+01  1.91102976e+02  4.58647142e+02]\n",
      " [ 0.00000000e+00  1.40000000e+00  8.68000000e+00  4.10480000e+01\n",
      "   1.75336000e+02  7.12725440e+02  2.81983341e+03  1.09829111e+04]\n",
      " [ 0.00000000e+00  0.00000000e+00 -4.80000000e-01 -4.41600000e+00\n",
      "  -2.73216000e+01 -1.42080000e+02 -6.70603008e+02 -2.97860905e+03]\n",
      " [ 0.00000000e+00  0.00000000e+00  0.00000000e+00 -1.60000000e-01\n",
      "  -2.01600000e+00 -1.59616000e+01 -1.01629440e+02 -5.69074432e+02]\n",
      " [ 0.00000000e+00  0.00000000e+00  0.00000000e+00  0.00000000e+00\n",
      "  -7.68000000e-02 -1.16736000e+00 -1.06967040e+01 -7.65935616e+01]\n",
      " [ 0.00000000e+00  0.00000000e+00  0.00000000e+00  0.00000000e+00\n",
      "   0.00000000e+00 -2.88000000e-02 -5.41440000e-01 -5.96044800e+00]\n",
      " [ 0.00000000e+00  0.00000000e+00  0.00000000e+00  0.00000000e+00\n",
      "   0.00000000e+00  0.00000000e+00  7.68000000e-03  1.65888000e-01]\n",
      " [ 0.00000000e+00  0.00000000e+00  0.00000000e+00  0.00000000e+00\n",
      "   0.00000000e+00  0.00000000e+00  0.00000000e+00 -1.84319998e-03]]\n",
      "Received Vector B:\n",
      "[[ 1.10200000e+01]\n",
      " [ 3.36800000e+01]\n",
      " [-5.37428571e+00]\n",
      " [-6.38571429e-01]\n",
      " [-6.74285714e-02]\n",
      " [-1.14285714e-02]\n",
      " [ 2.38095238e-03]\n",
      " [ 1.71428572e-03]]\n",
      "Variation interval for I: range(6, -1, -1)                  with shape (0,7)\n",
      "Variation Interval for J: range(1, 8)\n",
      "Initial Solution: [ 0.          0.          0.          0.          0.          0.\n",
      "  0.         -0.93005953]\n",
      "i: 6\n",
      "i: 6, j: 7, sum: -0.15428571597318577\n",
      "Solution:\n",
      "[ 0.          0.          0.          0.          0.          0.\n",
      " 20.39930577 -0.93005953]\n",
      "\n",
      "i: 5\n",
      "i: 5, j: 6, sum: -11.045000118315944\n",
      "i: 5, j: 7, sum: -5.501428629281673\n",
      "Solution:\n",
      "[   0.            0.            0.            0.            0.\n",
      " -190.62500201   20.39930577   -0.93005953]\n",
      "\n",
      "i: 4\n",
      "i: 4, j: 5, sum: 222.52800234536255\n",
      "i: 4, j: 6, sum: 4.322666674924733\n",
      "i: 4, j: 7, sum: 75.55923888038511\n",
      "Solution:\n",
      "[ 0.00000000e+00  0.00000000e+00  0.00000000e+00  0.00000000e+00\n",
      "  9.84722232e+02 -1.90625002e+02  2.03993058e+01 -9.30059534e-01]\n",
      "\n",
      "i: 3\n",
      "i: 3, j: 4, sum: -1985.2000206094485\n",
      "i: 3, j: 5, sum: 1057.4800114587033\n",
      "i: 3, j: 6, sum: -1015.6900107458478\n",
      "i: 3, j: 7, sum: -486.41690973569166\n",
      "Solution:\n",
      "[ 0.00000000e+00  0.00000000e+00  0.00000000e+00 -3.03611461e+03\n",
      "  9.84722232e+02 -1.90625002e+02  2.03993058e+01 -9.30059534e-01]\n",
      "\n",
      "i: 2\n",
      "i: 2, j: 3, sum: 13407.482137277217\n",
      "i: 2, j: 4, sum: -13496.704808697177\n",
      "i: 2, j: 5, sum: 13587.295476753588\n",
      "i: 2, j: 6, sum: -92.54033643027833\n",
      "i: 2, j: 7, sum: 2677.743408067179\n",
      "Solution:\n",
      "[ 0.00000000e+00  0.00000000e+00  5.58982853e+03 -3.03611461e+03\n",
      "  9.84722232e+02 -1.90625002e+02  2.03993058e+01 -9.30059534e-01]\n",
      "\n",
      "i: 1\n",
      "i: 1, j: 2, sum: 48519.71162921478\n",
      "i: 1, j: 3, sum: -76106.72106348336\n",
      "i: 1, j: 4, sum: 96550.53628452579\n",
      "i: 1, j: 5, sum: -39312.752147400024\n",
      "i: 1, j: 6, sum: 18209.891774248943\n",
      "i: 1, j: 7, sum: 7995.130579517008\n",
      "Solution:\n",
      "[ 0.00000000e+00 -5.68675041e+03  5.58982853e+03 -3.03611461e+03\n",
      "  9.84722232e+02 -1.90625002e+02  2.03993058e+01 -9.30059534e-01]\n",
      "\n",
      "i: 0\n",
      "i: 0, j: 1, sum: -13648.200993457727\n",
      "i: 0, j: 2, sum: 18549.211331919825\n",
      "i: 0, j: 3, sum: -23422.037097817534\n",
      "i: 0, j: 4, sum: 9248.68324135588\n",
      "i: 0, j: 5, sum: -5930.068918619983\n",
      "i: 0, j: 6, sum: -2031.7008768667065\n",
      "i: 0, j: 7, sum: -2458.2700243758627\n",
      "Solution:\n",
      "[ 2.46929002e+03 -5.68675041e+03  5.58982853e+03 -3.03611461e+03\n",
      "  9.84722232e+02 -1.90625002e+02  2.03993058e+01 -9.30059534e-01]\n",
      "\n",
      "Solution: [ 2.4692900e+03 -5.6867504e+03  5.5898285e+03 -3.0361146e+03\n",
      "  9.8472220e+02 -1.9062500e+02  2.0399300e+01 -9.3010000e-01]\n",
      "Coeficientes do Polinômio: [ 2.4692900e+03 -5.6867504e+03  5.5898285e+03 -3.0361146e+03\n",
      "  9.8472220e+02 -1.9062500e+02  2.0399300e+01 -9.3010000e-01]\n"
     ]
    }
   ],
   "source": [
    "ex.fitPolynomial()"
   ]
  },
  {
   "cell_type": "code",
   "execution_count": 9,
   "metadata": {},
   "outputs": [
    {
     "data": {
      "image/png": "[encoded data removed]",
      "text/plain": [
       "<Figure size 640x480 with 1 Axes>"
      ]
     },
     "metadata": {},
     "output_type": "display_data"
    }
   ],
   "source": [
    "ex.plotDataAndFit()"
   ]
  }
 ],
 "metadata": {
  "kernelspec": {
   "display_name": "Python 3",
   "language": "python",
   "name": "python3"
  },
  "language_info": {
   "codemirror_mode": {
    "name": "ipython",
    "version": 3
   },
   "file_extension": ".py",
   "mimetype": "text/x-python",
   "name": "python",
   "nbconvert_exporter": "python",
   "pygments_lexer": "ipython3",
   "version": "3.10.12"
  }
 },
 "nbformat": 4,
 "nbformat_minor": 2
}
