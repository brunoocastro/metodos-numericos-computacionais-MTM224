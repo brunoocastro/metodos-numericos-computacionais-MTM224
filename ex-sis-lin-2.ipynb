{
 "cells": [
  {
   "cell_type": "code",
   "execution_count": 2,
   "metadata": {},
   "outputs": [],
   "source": [
    "import numpy as np\n",
    "from lib.sis_eq_lin.res_sistemas_triang import ResSisLin\n",
    "from lib.sis_eq_lin.met_eliminacao_gauss import MetodoEliminacaoGauss"
   ]
  },
  {
   "cell_type": "markdown",
   "metadata": {},
   "source": [
    "# Aula 10/06\n",
    "\n",
    "2 Exercícios para implementar Gauss e Fatoração LU"
   ]
  },
  {
   "cell_type": "code",
   "execution_count": 4,
   "metadata": {},
   "outputs": [],
   "source": [
    "ex1_a = [\n",
    "  [4,-1,1],\n",
    "  [2,5,2],\n",
    "  [1, 2, 4]\n",
    "]\n",
    "\n",
    "ex1_b = [\n",
    "  8,3,11\n",
    "]"
   ]
  },
  {
   "cell_type": "code",
   "execution_count": 5,
   "metadata": {},
   "outputs": [],
   "source": [
    "ex2_a = [\n",
    "  [1, -1/2, 1,0],\n",
    "  [2,-1,-1,1],\n",
    "  [1,1,0,0],\n",
    "  [1,-1/2,1,1]\n",
    "]\n",
    "\n",
    "ex2_b = [4,5,2,5]"
   ]
  },
  {
   "cell_type": "code",
   "execution_count": 8,
   "metadata": {},
   "outputs": [
    {
     "name": "stdout",
     "output_type": "stream",
     "text": [
      "Encontrando triangulares:\n",
      "\n",
      "\n",
      "Solution matrix POS PIVOT CHANGES:\n",
      "[[ 4. -1.  1.  8.]\n",
      " [ 2.  5.  2.  3.]\n",
      " [ 1.  2.  4. 11.]]\n",
      "\n",
      "Factor in [1,0]: 0.5\n",
      "Linha i: [2. 5. 2. 3.]\n",
      "Linha j: [ 4. -1.  1.  8.]\n",
      "Final: [ 0.   5.5  1.5 -1. ]\n",
      "Solution matrix on [1,0]: \n",
      " [[ 4.  -1.   1.   8. ]\n",
      " [ 0.   5.5  1.5 -1. ]\n",
      " [ 1.   2.   4.  11. ]] \n",
      "\n",
      "\n",
      "Solution matrix POS PIVOT CHANGES:\n",
      "[[ 4.  -1.   1.   8. ]\n",
      " [ 0.   5.5  1.5 -1. ]\n",
      " [ 1.   2.   4.  11. ]]\n",
      "\n",
      "Factor in [2,0]: 0.25\n",
      "Linha i: [ 1.  2.  4. 11.]\n",
      "Linha j: [ 4. -1.  1.  8.]\n",
      "Final: [0.   2.25 3.75 9.  ]\n",
      "Solution matrix on [2,0]: \n",
      " [[ 4.   -1.    1.    8.  ]\n",
      " [ 0.    5.5   1.5  -1.  ]\n",
      " [ 0.    2.25  3.75  9.  ]] \n",
      "\n",
      "\n",
      "Solution matrix POS PIVOT CHANGES:\n",
      "[[ 4.   -1.    1.    8.  ]\n",
      " [ 0.    5.5   1.5  -1.  ]\n",
      " [ 0.    2.25  3.75  9.  ]]\n",
      "\n",
      "Factor in [2,1]: 0.4090909090909091\n",
      "Linha i: [0.   2.25 3.75 9.  ]\n",
      "Linha j: [ 0.   5.5  1.5 -1. ]\n",
      "Final: [0.         0.         3.13636364 9.40909091]\n",
      "Solution matrix on [2,1]: \n",
      " [[ 4.         -1.          1.          8.        ]\n",
      " [ 0.          5.5         1.5        -1.        ]\n",
      " [ 0.          0.          3.13636364  9.40909091]] \n",
      "\n",
      "Solution Matrix:\n",
      "[[ 4.         -1.          1.          8.        ]\n",
      " [ 0.          5.5         1.5        -1.        ]\n",
      " [ 0.          0.          3.13636364  9.40909091]]\n",
      "AUpper:\n",
      "[[ 4.         -1.          1.        ]\n",
      " [ 0.          5.5         1.5       ]\n",
      " [ 0.          0.          3.13636364]]\n",
      "BUpper:\n",
      "[[ 8.        ]\n",
      " [-1.        ]\n",
      " [ 9.40909091]]\n",
      "Encontrando solução do sistema linear:\n",
      "\n",
      "(3, 1) (3, 3)\n",
      "Matriz é triangular superior\n",
      "Received Matrix A:\n",
      "[[ 4.         -1.          1.        ]\n",
      " [ 0.          5.5         1.5       ]\n",
      " [ 0.          0.          3.13636364]]\n",
      "Received Vector B:\n",
      "[[ 8.        ]\n",
      " [-1.        ]\n",
      " [ 9.40909091]]\n",
      "Variation interval for I: range(1, -1, -1) with shape (0,2)\n",
      "Initial Solution: [0. 0. 3.]\n",
      "i: 1\n",
      "i: 1, j: 2, sum: 4.5\n",
      "Solution of ([-1.] - 4.5 / 5.5):\n",
      "[ 0. -1.  3.]\n",
      "\n",
      "i: 0\n",
      "i: 0, j: 1, sum: 1.0\n",
      "i: 0, j: 2, sum: 4.0\n",
      "Solution of ([8.] - 4.0 / 4.0):\n",
      "[ 1. -1.  3.]\n",
      "\n",
      "Solution: [ 1. -1.  3.]\n"
     ]
    },
    {
     "data": {
      "text/plain": [
       "array([ 1., -1.,  3.])"
      ]
     },
     "execution_count": 8,
     "metadata": {},
     "output_type": "execute_result"
    }
   ],
   "source": [
    "# Ex 1 - Gauss\n",
    "\n",
    "ex1_gauss = MetodoEliminacaoGauss(ex1_a, ex1_b)\n",
    "\n",
    "print(\"[EX1 - Gauss] Encontrando triangulares:\\n\")\n",
    "solutionMatrix, AUpper, BUpper = ex1_gauss.findTriangular()\n",
    "\n",
    "print(\"[EX1 - Gauss] Encontrando solução do sistema linear:\\n\")\n",
    "ex1_solution = ResSisLin(AUpper, BUpper)\n",
    "solutionVector = ex1_solution.findSolution()\n",
    "print(f\"[EX1 - Gauss] Solução final: {solutionVector}\\n\")"
   ]
  }
 ],
 "metadata": {
  "kernelspec": {
   "display_name": "venv",
   "language": "python",
   "name": "python3"
  },
  "language_info": {
   "codemirror_mode": {
    "name": "ipython",
    "version": 3
   },
   "file_extension": ".py",
   "mimetype": "text/x-python",
   "name": "python",
   "nbconvert_exporter": "python",
   "pygments_lexer": "ipython3",
   "version": "3.10.12"
  }
 },
 "nbformat": 4,
 "nbformat_minor": 2
}
