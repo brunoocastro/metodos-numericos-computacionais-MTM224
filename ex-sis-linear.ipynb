{
 "cells": [
  {
   "cell_type": "code",
   "execution_count": 1,
   "metadata": {},
   "outputs": [],
   "source": [
    "import numpy as np\n",
    "from lib.sis_eq_lin.res_sistemas_triang import ResSisLin\n"
   ]
  },
  {
   "cell_type": "code",
   "execution_count": 2,
   "metadata": {},
   "outputs": [],
   "source": [
    "# Exemplo da aula\n",
    "vec_solucao = np.array([-3, 5, 0])\n",
    "\n",
    "matrizA = np.array([[3, 2, 4], [1, 1, 2], [4, 3, -2]])\n",
    "vetorB = np.array([1, 2, 3])\n",
    "\n",
    "triangularA = np.array([[3, 2, 4], [0, 1 / 3, 2 / 3], [0, 0, -8]])\n",
    "vetorTriangularB = np.array([1, 5 / 3, 0])"
   ]
  },
  {
   "cell_type": "code",
   "execution_count": 3,
   "metadata": {},
   "outputs": [
    {
     "name": "stdout",
     "output_type": "stream",
     "text": [
      "(3,) (3, 3)\n",
      "Matriz é triangular superior\n",
      "Received Matrix A:\n",
      "[[ 3.          2.          4.        ]\n",
      " [ 0.          0.33333333  0.66666667]\n",
      " [ 0.          0.         -8.        ]]\n",
      "Received Vector B:\n",
      "[1.         1.66666667 0.        ]\n"
     ]
    }
   ],
   "source": [
    "ex1 = ResSisLin(triangularA, vetorTriangularB)"
   ]
  },
  {
   "cell_type": "code",
   "execution_count": 4,
   "metadata": {},
   "outputs": [
    {
     "name": "stdout",
     "output_type": "stream",
     "text": [
      "Variation interval for I: range(0, 2) with shape 3\n",
      "Initial Solution: [ 0.  0. -0.]\n",
      "i: 1\n",
      "i: 1, j: 1, sum: 0.0\n",
      "Solution of (1.6666666666666667 - 0.0 / 0.3333333333333333):\n",
      "[ 0.  5. -0.]\n",
      "\n",
      "i: 0\n",
      "Solution of (1.0 - 0 / 3.0):\n",
      "[ 0.33333333  5.         -0.        ]\n",
      "\n",
      "Solution: [ 0.33333333  5.         -0.        ]\n"
     ]
    },
    {
     "data": {
      "text/plain": [
       "array([ 0.33333333,  5.        , -0.        ])"
      ]
     },
     "execution_count": 4,
     "metadata": {},
     "output_type": "execute_result"
    }
   ],
   "source": [
    "ex1.findSolution()"
   ]
  },
  {
   "cell_type": "markdown",
   "metadata": {},
   "source": [
    "# Aula 22/05/2024"
   ]
  },
  {
   "cell_type": "code",
   "execution_count": 5,
   "metadata": {},
   "outputs": [],
   "source": [
    "from lib.sis_eq_lin.met_eliminacao_gauss import MetodoEliminacaoGauss"
   ]
  },
  {
   "cell_type": "code",
   "execution_count": 6,
   "metadata": {},
   "outputs": [],
   "source": [
    "# Exercício a)\n",
    "\n",
    "a = np.array([[2,2,1,1],[1,-1,2,-1],[3,2,-3,-2],[4,3,2,1]])\n",
    "b = np.array([7,1,4,12])\n",
    "\n",
    "ex_a = MetodoEliminacaoGauss(a,b)"
   ]
  },
  {
   "cell_type": "code",
   "execution_count": 7,
   "metadata": {},
   "outputs": [
    {
     "name": "stdout",
     "output_type": "stream",
     "text": [
      "Factor in [1,0]: 0.5\n",
      "Linha i: [ 1. -1.  2. -1.  1.]\n",
      "Linha j: [2. 2. 1. 1. 7.]\n",
      "Final: [ 0.  -2.   1.5 -1.5 -2.5]\n",
      "Solution matrix on [1,0]: \n",
      " [[ 2.   2.   1.   1.   7. ]\n",
      " [ 0.  -2.   1.5 -1.5 -2.5]\n",
      " [ 3.   2.  -3.  -2.   4. ]\n",
      " [ 4.   3.   2.   1.  12. ]] \n",
      "\n",
      "Factor in [2,0]: 1.5\n",
      "Linha i: [ 3.  2. -3. -2.  4.]\n",
      "Linha j: [2. 2. 1. 1. 7.]\n",
      "Final: [ 0.  -1.  -4.5 -3.5 -6.5]\n",
      "Solution matrix on [2,0]: \n",
      " [[ 2.   2.   1.   1.   7. ]\n",
      " [ 0.  -2.   1.5 -1.5 -2.5]\n",
      " [ 0.  -1.  -4.5 -3.5 -6.5]\n",
      " [ 4.   3.   2.   1.  12. ]] \n",
      "\n",
      "Factor in [3,0]: 2.0\n",
      "Linha i: [ 4.  3.  2.  1. 12.]\n",
      "Linha j: [2. 2. 1. 1. 7.]\n",
      "Final: [ 0. -1.  0. -1. -2.]\n",
      "Solution matrix on [3,0]: \n",
      " [[ 2.   2.   1.   1.   7. ]\n",
      " [ 0.  -2.   1.5 -1.5 -2.5]\n",
      " [ 0.  -1.  -4.5 -3.5 -6.5]\n",
      " [ 0.  -1.   0.  -1.  -2. ]] \n",
      "\n",
      "Factor in [2,1]: 0.5\n",
      "Linha i: [ 0.  -1.  -4.5 -3.5 -6.5]\n",
      "Linha j: [ 0.  -2.   1.5 -1.5 -2.5]\n",
      "Final: [ 0.    0.   -5.25 -2.75 -5.25]\n",
      "Solution matrix on [2,1]: \n",
      " [[ 2.    2.    1.    1.    7.  ]\n",
      " [ 0.   -2.    1.5  -1.5  -2.5 ]\n",
      " [ 0.    0.   -5.25 -2.75 -5.25]\n",
      " [ 0.   -1.    0.   -1.   -2.  ]] \n",
      "\n",
      "Factor in [3,1]: 0.5\n",
      "Linha i: [ 0. -1.  0. -1. -2.]\n",
      "Linha j: [ 0.  -2.   1.5 -1.5 -2.5]\n",
      "Final: [ 0.    0.   -0.75 -0.25 -0.75]\n",
      "Solution matrix on [3,1]: \n",
      " [[ 2.    2.    1.    1.    7.  ]\n",
      " [ 0.   -2.    1.5  -1.5  -2.5 ]\n",
      " [ 0.    0.   -5.25 -2.75 -5.25]\n",
      " [ 0.    0.   -0.75 -0.25 -0.75]] \n",
      "\n",
      "Factor in [3,2]: 0.14285714285714285\n",
      "Linha i: [ 0.    0.   -0.75 -0.25 -0.75]\n",
      "Linha j: [ 0.    0.   -5.25 -2.75 -5.25]\n",
      "Final: [0.         0.         0.         0.14285714 0.        ]\n",
      "Solution matrix on [3,2]: \n",
      " [[ 2.          2.          1.          1.          7.        ]\n",
      " [ 0.         -2.          1.5        -1.5        -2.5       ]\n",
      " [ 0.          0.         -5.25       -2.75       -5.25      ]\n",
      " [ 0.          0.          0.          0.14285714  0.        ]] \n",
      "\n",
      "Solution Matrix:\n",
      "[[ 2.          2.          1.          1.          7.        ]\n",
      " [ 0.         -2.          1.5        -1.5        -2.5       ]\n",
      " [ 0.          0.         -5.25       -2.75       -5.25      ]\n",
      " [ 0.          0.          0.          0.14285714  0.        ]]\n",
      "AUpper:\n",
      "[[ 2.          2.          1.          1.        ]\n",
      " [ 0.         -2.          1.5        -1.5       ]\n",
      " [ 0.          0.         -5.25       -2.75      ]\n",
      " [ 0.          0.          0.          0.14285714]]\n",
      "BUpper:\n",
      "[[ 7.  ]\n",
      " [-2.5 ]\n",
      " [-5.25]\n",
      " [ 0.  ]]\n"
     ]
    }
   ],
   "source": [
    "solutionMatrix, AUpper, BUpper = ex_a.findTriangular()"
   ]
  },
  {
   "cell_type": "code",
   "execution_count": 8,
   "metadata": {},
   "outputs": [
    {
     "name": "stdout",
     "output_type": "stream",
     "text": [
      "(4, 1) (4, 4)\n",
      "Matriz é triangular superior\n",
      "Received Matrix A:\n",
      "[[ 2.          2.          1.          1.        ]\n",
      " [ 0.         -2.          1.5        -1.5       ]\n",
      " [ 0.          0.         -5.25       -2.75      ]\n",
      " [ 0.          0.          0.          0.14285714]]\n",
      "Received Vector B:\n",
      "[[ 7.  ]\n",
      " [-2.5 ]\n",
      " [-5.25]\n",
      " [ 0.  ]]\n"
     ]
    }
   ],
   "source": [
    "ex_a_solution = ResSisLin(AUpper, BUpper)"
   ]
  },
  {
   "cell_type": "code",
   "execution_count": 9,
   "metadata": {},
   "outputs": [
    {
     "name": "stdout",
     "output_type": "stream",
     "text": [
      "Variation interval for I: range(0, 3) with shape 4\n",
      "Initial Solution: [0. 0. 0. 0.]\n",
      "i: 2\n",
      "i: 2, j: 1, sum: 0.0\n",
      "i: 2, j: 2, sum: 0.0\n",
      "Solution of ([-5.25] - 0.0 / -5.25):\n",
      "[0. 0. 1. 0.]\n",
      "\n",
      "i: 1\n",
      "i: 1, j: 2, sum: 1.5\n",
      "Solution of ([-2.5] - 1.5 / -2.0):\n",
      "[0. 2. 1. 0.]\n",
      "\n",
      "i: 0\n",
      "Solution of ([7.] - 0 / 2.0):\n",
      "[3.5 2.  1.  0. ]\n",
      "\n",
      "Solution: [3.5 2.  1.  0. ]\n"
     ]
    }
   ],
   "source": [
    "solution = ex_a_solution.findSolution()"
   ]
  },
  {
   "cell_type": "code",
   "execution_count": 10,
   "metadata": {},
   "outputs": [],
   "source": [
    "# Ex livro\n",
    "\n",
    "exlivro_a = np.array([[3, 2, 4], [1, 1, 2], [4, 3, -2]], dtype=float)\n",
    "exlivro_b = np.array([1, 2, 3], dtype=float)\n",
    "\n",
    "gauss_exlivro = MetodoEliminacaoGauss(exlivro_a, exlivro_b)\n"
   ]
  },
  {
   "cell_type": "code",
   "execution_count": 11,
   "metadata": {},
   "outputs": [
    {
     "name": "stdout",
     "output_type": "stream",
     "text": [
      "[[ 3.  2.  4.  1.]\n",
      " [ 1.  1.  2.  2.]\n",
      " [ 4.  3. -2.  3.]]\n"
     ]
    }
   ],
   "source": [
    "print(gauss_exlivro.augmentedMatrix)"
   ]
  },
  {
   "cell_type": "code",
   "execution_count": 12,
   "metadata": {},
   "outputs": [
    {
     "name": "stdout",
     "output_type": "stream",
     "text": [
      "Factor in [1,0]: 0.3333333333333333\n",
      "Linha i: [1. 1. 2. 2.]\n",
      "Linha j: [3. 2. 4. 1.]\n",
      "Final: [0.         0.33333333 0.66666667 1.66666667]\n",
      "Solution matrix on [1,0]: \n",
      " [[ 3.          2.          4.          1.        ]\n",
      " [ 0.          0.33333333  0.66666667  1.66666667]\n",
      " [ 4.          3.         -2.          3.        ]] \n",
      "\n",
      "Factor in [2,0]: 1.3333333333333333\n",
      "Linha i: [ 4.  3. -2.  3.]\n",
      "Linha j: [3. 2. 4. 1.]\n",
      "Final: [ 0.          0.33333333 -7.33333333  1.66666667]\n",
      "Solution matrix on [2,0]: \n",
      " [[ 3.          2.          4.          1.        ]\n",
      " [ 0.          0.33333333  0.66666667  1.66666667]\n",
      " [ 0.          0.33333333 -7.33333333  1.66666667]] \n",
      "\n",
      "Factor in [2,1]: 1.0000000000000002\n",
      "Linha i: [ 0.          0.33333333 -7.33333333  1.66666667]\n",
      "Linha j: [0.         0.33333333 0.66666667 1.66666667]\n",
      "Final: [ 0.00000000e+00  5.55111512e-17 -8.00000000e+00 -4.44089210e-16]\n",
      "Solution matrix on [2,1]: \n",
      " [[ 3.00000000e+00  2.00000000e+00  4.00000000e+00  1.00000000e+00]\n",
      " [ 0.00000000e+00  3.33333333e-01  6.66666667e-01  1.66666667e+00]\n",
      " [ 0.00000000e+00  5.55111512e-17 -8.00000000e+00 -4.44089210e-16]] \n",
      "\n",
      "Solution Matrix:\n",
      "[[ 3.00000000e+00  2.00000000e+00  4.00000000e+00  1.00000000e+00]\n",
      " [ 0.00000000e+00  3.33333333e-01  6.66666667e-01  1.66666667e+00]\n",
      " [ 0.00000000e+00  5.55111512e-17 -8.00000000e+00 -4.44089210e-16]]\n",
      "AUpper:\n",
      "[[ 3.00000000e+00  2.00000000e+00  4.00000000e+00]\n",
      " [ 0.00000000e+00  3.33333333e-01  6.66666667e-01]\n",
      " [ 0.00000000e+00  5.55111512e-17 -8.00000000e+00]]\n",
      "BUpper:\n",
      "[[ 1.00000000e+00]\n",
      " [ 1.66666667e+00]\n",
      " [-4.44089210e-16]]\n",
      "[[1.        ]\n",
      " [1.66666667]\n",
      " [0.        ]]\n"
     ]
    }
   ],
   "source": [
    "solutionMatrix, AUpper, BUpper = gauss_exlivro.findTriangular()\n",
    "\n",
    "print(BUpper)"
   ]
  },
  {
   "cell_type": "code",
   "execution_count": 13,
   "metadata": {},
   "outputs": [
    {
     "name": "stdout",
     "output_type": "stream",
     "text": [
      "A:\n",
      " [[ 3.          2.          4.        ]\n",
      " [ 0.          0.33333333  0.66666667]\n",
      " [ 0.          0.         -8.        ]]\n",
      "B:\n",
      " [[1.        ]\n",
      " [1.66666667]\n",
      " [0.        ]]\n"
     ]
    }
   ],
   "source": [
    "\n",
    "print(\"A:\\n\", AUpper)\n",
    "print(\"B:\\n\", BUpper)"
   ]
  },
  {
   "cell_type": "code",
   "execution_count": 14,
   "metadata": {},
   "outputs": [
    {
     "name": "stdout",
     "output_type": "stream",
     "text": [
      "(3, 1) (3, 3)\n",
      "Matriz é triangular superior\n",
      "Received Matrix A:\n",
      "[[ 3.          2.          4.        ]\n",
      " [ 0.          0.33333333  0.66666667]\n",
      " [ 0.          0.         -8.        ]]\n",
      "Received Vector B:\n",
      "[[1.        ]\n",
      " [1.66666667]\n",
      " [0.        ]]\n"
     ]
    }
   ],
   "source": [
    "solucao_exlivro = ResSisLin(AUpper, BUpper)"
   ]
  },
  {
   "cell_type": "code",
   "execution_count": 15,
   "metadata": {},
   "outputs": [
    {
     "name": "stdout",
     "output_type": "stream",
     "text": [
      "Variation interval for I: range(0, 2) with shape 3\n",
      "Initial Solution: [ 0.  0. -0.]\n",
      "i: 1\n",
      "i: 1, j: 1, sum: 0.0\n",
      "Solution of ([1.66666667] - 0.0 / 0.33333333333333337):\n",
      "[ 0.  5. -0.]\n",
      "\n",
      "i: 0\n",
      "Solution of ([1.] - 0 / 3.0):\n",
      "[ 0.33333333  5.         -0.        ]\n",
      "\n",
      "Solution: [ 0.33333333  5.         -0.        ]\n"
     ]
    },
    {
     "data": {
      "text/plain": [
       "array([ 0.33333333,  5.        , -0.        ])"
      ]
     },
     "execution_count": 15,
     "metadata": {},
     "output_type": "execute_result"
    }
   ],
   "source": [
    "solucao_exlivro.findSolution()"
   ]
  }
 ],
 "metadata": {
  "kernelspec": {
   "display_name": "venv",
   "language": "python",
   "name": "python3"
  },
  "language_info": {
   "codemirror_mode": {
    "name": "ipython",
    "version": 3
   },
   "file_extension": ".py",
   "mimetype": "text/x-python",
   "name": "python",
   "nbconvert_exporter": "python",
   "pygments_lexer": "ipython3",
   "version": "3.10.12"
  }
 },
 "nbformat": 4,
 "nbformat_minor": 2
}
