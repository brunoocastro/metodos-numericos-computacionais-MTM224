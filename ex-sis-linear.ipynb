{
 "cells": [
  {
   "cell_type": "code",
   "execution_count": 1,
   "metadata": {},
   "outputs": [],
   "source": [
    "import numpy as np\n",
    "from lib.sis_eq_lin.res_sistemas_triang import ResSisLin\n"
   ]
  },
  {
   "cell_type": "code",
   "execution_count": 2,
   "metadata": {},
   "outputs": [],
   "source": [
    "# Exemplo da aula\n",
    "vec_solucao = np.array([-3, 5, 0])\n",
    "\n",
    "matrizA = np.array([[3, 2, 4], [1, 1, 2], [4, 3, -2]])\n",
    "vetorB = np.array([1, 2, 3])\n",
    "\n",
    "triangularA = np.array([[3, 2, 4], [0, 1 / 3, 2 / 3], [0, 0, -8]])\n",
    "vetorTriangularB = np.array([1, 5 / 3, 0])"
   ]
  },
  {
   "cell_type": "code",
   "execution_count": 3,
   "metadata": {},
   "outputs": [
    {
     "name": "stdout",
     "output_type": "stream",
     "text": [
      "(3,) (3, 3)\n",
      "Matriz é triangular superior\n",
      "Received Matrix A:\n",
      "[[ 3.          2.          4.        ]\n",
      " [ 0.          0.33333333  0.66666667]\n",
      " [ 0.          0.         -8.        ]]\n",
      "Received Vector B:\n",
      "[1.         1.66666667 0.        ]\n"
     ]
    }
   ],
   "source": [
    "ex1 = ResSisLin(triangularA, vetorTriangularB)"
   ]
  },
  {
   "cell_type": "code",
   "execution_count": 4,
   "metadata": {},
   "outputs": [
    {
     "name": "stdout",
     "output_type": "stream",
     "text": [
      "Variation interval for I: range(0, 2) with shape 3\n",
      "Initial Solution: [ 0.  0. -0.]\n",
      "variationInterval range(0, 2)\n",
      "i: 0\n",
      "i: 0, j: 0, sum: 0\n",
      "i: 0, j: 1, sum: 9.0\n",
      "i: 0, j: 2, sum: 9.0\n",
      "i: 1\n",
      "i: 1, j: 1, sum: 0\n",
      "i: 1, j: 2, sum: 0.1111111111111111\n",
      "Solution: [-2.66666667  4.66666667 -0.        ]\n"
     ]
    },
    {
     "data": {
      "text/plain": [
       "array([-2.66666667,  4.66666667, -0.        ])"
      ]
     },
     "execution_count": 4,
     "metadata": {},
     "output_type": "execute_result"
    }
   ],
   "source": [
    "ex1.findSolution()"
   ]
  },
  {
   "cell_type": "markdown",
   "metadata": {},
   "source": [
    "# Aula 22/05/2024"
   ]
  },
  {
   "cell_type": "code",
   "execution_count": 7,
   "metadata": {},
   "outputs": [],
   "source": [
    "from lib.sis_eq_lin.met_eliminacao_gauss import MetodoEliminacaoGauss"
   ]
  },
  {
   "cell_type": "code",
   "execution_count": 8,
   "metadata": {},
   "outputs": [],
   "source": [
    "# Exercício a)\n",
    "\n",
    "a = np.array([[2,2,1,1],[1,-1,2,-1],[3,2,-3,-2],[4,3,2,1]])\n",
    "b = np.array([7,1,4,12])\n",
    "\n",
    "ex_a = MetodoEliminacaoGauss(a,b)"
   ]
  },
  {
   "cell_type": "code",
   "execution_count": 10,
   "metadata": {},
   "outputs": [
    {
     "name": "stdout",
     "output_type": "stream",
     "text": [
      "Factor in [1,0]: 0.5\n",
      "Factor in [2,0]: 1.5\n",
      "Factor in [3,0]: 2.0\n",
      "Factor in [2,1]: 0.5\n",
      "Factor in [3,1]: 0.5\n",
      "Factor in [3,2]: -0.0\n",
      "Solution Matrix:\n",
      "[[ 2  2  1  1  7]\n",
      " [ 0 -2  1 -1 -2]\n",
      " [ 0  0 -4 -2 -5]\n",
      " [ 0  0  0  0 -1]]\n",
      "AUpper:\n",
      "[[ 2  2  1  1]\n",
      " [ 0 -2  1 -1]\n",
      " [ 0  0 -4 -2]\n",
      " [ 0  0  0  0]]\n",
      "BUpper:\n",
      "[[ 7]\n",
      " [-2]\n",
      " [-5]\n",
      " [-1]]\n"
     ]
    }
   ],
   "source": [
    "solutionMatrix, AUpper, BUpper = ex_a.findTriangular()"
   ]
  },
  {
   "cell_type": "code",
   "execution_count": 11,
   "metadata": {},
   "outputs": [
    {
     "name": "stdout",
     "output_type": "stream",
     "text": [
      "(4, 1) (4, 4)\n",
      "Matriz é triangular superior\n",
      "Received Matrix A:\n",
      "[[ 2  2  1  1]\n",
      " [ 0 -2  1 -1]\n",
      " [ 0  0 -4 -2]\n",
      " [ 0  0  0  0]]\n",
      "Received Vector B:\n",
      "[[ 7]\n",
      " [-2]\n",
      " [-5]\n",
      " [-1]]\n"
     ]
    }
   ],
   "source": [
    "ex_a_solution = ResSisLin(AUpper, BUpper)"
   ]
  },
  {
   "cell_type": "code",
   "execution_count": 14,
   "metadata": {},
   "outputs": [
    {
     "name": "stdout",
     "output_type": "stream",
     "text": [
      "Variation interval for I: range(0, 3) with shape 4\n",
      "Initial Solution: [  0.   0.   0. -inf]\n",
      "variationInterval range(0, 3)\n",
      "i: 0\n",
      "i: 0, j: 0, sum: 0\n",
      "i: 0, j: 1, sum: 4\n",
      "i: 0, j: 2, sum: 4\n",
      "i: 0, j: 3, sum: 4\n",
      "i: 1\n",
      "i: 1, j: 1, sum: 0\n",
      "i: 1, j: 2, sum: 4\n",
      "i: 1, j: 3, sum: 4\n",
      "i: 2\n",
      "i: 2, j: 2, sum: 0\n",
      "i: 2, j: 3, sum: 16\n",
      "Solution: [1.5  3.   5.25 -inf]\n"
     ]
    },
    {
     "name": "stderr",
     "output_type": "stream",
     "text": [
      "/home/tone/www/ufsm/cadeiras/metodos-numericos/lib/sis_eq_lin/res_sistemas_triang.py:78: RuntimeWarning: divide by zero encountered in divide\n",
      "  solution[-1] = self.vectorB[-1] / self.matrixA[-1][-1]\n"
     ]
    }
   ],
   "source": [
    "solution = ex_a_solution.findSolution()"
   ]
  }
 ],
 "metadata": {
  "kernelspec": {
   "display_name": "venv",
   "language": "python",
   "name": "python3"
  },
  "language_info": {
   "codemirror_mode": {
    "name": "ipython",
    "version": 3
   },
   "file_extension": ".py",
   "mimetype": "text/x-python",
   "name": "python",
   "nbconvert_exporter": "python",
   "pygments_lexer": "ipython3",
   "version": "3.10.12"
  }
 },
 "nbformat": 4,
 "nbformat_minor": 2
}
