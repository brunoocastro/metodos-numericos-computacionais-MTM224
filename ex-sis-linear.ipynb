{
 "cells": [
  {
   "cell_type": "code",
   "execution_count": 1,
   "metadata": {},
   "outputs": [],
   "source": [
    "import numpy as np\n",
    "from lib.sis_eq_lin.res_sistemas_triang import ResSisLin\n"
   ]
  },
  {
   "cell_type": "code",
   "execution_count": 2,
   "metadata": {},
   "outputs": [],
   "source": [
    "# Exemplo da aula\n",
    "vec_solucao = np.array([-3, 5, 0])\n",
    "\n",
    "matrizA = np.array([[3, 2, 4], [1, 1, 2], [4, 3, -2]])\n",
    "vetorB = np.array([1, 2, 3])\n",
    "\n",
    "triangularA = np.array([[3, 2, 4], [0, 1 / 3, 2 / 3], [0, 0, -8]])\n",
    "vetorTriangularB = np.array([1, 5 / 3, 0])"
   ]
  },
  {
   "cell_type": "code",
   "execution_count": 3,
   "metadata": {},
   "outputs": [
    {
     "name": "stdout",
     "output_type": "stream",
     "text": [
      "(3,) (3, 3)\n",
      "Matriz é triangular superior\n",
      "Received Matrix A:\n",
      "[[ 3.          2.          4.        ]\n",
      " [ 0.          0.33333333  0.66666667]\n",
      " [ 0.          0.         -8.        ]]\n",
      "Received Vector B:\n",
      "[1.         1.66666667 0.        ]\n"
     ]
    }
   ],
   "source": [
    "ex1 = ResSisLin(triangularA, vetorTriangularB)"
   ]
  },
  {
   "cell_type": "code",
   "execution_count": 4,
   "metadata": {},
   "outputs": [
    {
     "name": "stdout",
     "output_type": "stream",
     "text": [
      "Variation interval for I: range(1, -1, -1) with shape (0,2)\n",
      "Initial Solution: [ 0.  0. -0.]\n",
      "i: 1\n",
      "Solution of (1.6666666666666667 - 0 / 0.3333333333333333):\n",
      "[ 0.  5. -0.]\n",
      "\n",
      "i: 0\n",
      "i: 0, j: 1, sum: 10.000000000000002\n",
      "Solution of (1.0 - 10.000000000000002 / 3.0):\n",
      "[-3.  5. -0.]\n",
      "\n",
      "Solution: [-3.  5. -0.]\n"
     ]
    },
    {
     "data": {
      "text/plain": [
       "array([-3.,  5., -0.])"
      ]
     },
     "execution_count": 4,
     "metadata": {},
     "output_type": "execute_result"
    }
   ],
   "source": [
    "ex1.findSolution()"
   ]
  },
  {
   "cell_type": "markdown",
   "metadata": {},
   "source": [
    "# Aula 22/05/2024"
   ]
  },
  {
   "cell_type": "code",
   "execution_count": 5,
   "metadata": {},
   "outputs": [],
   "source": [
    "from lib.sis_eq_lin.met_eliminacao_gauss import MetodoEliminacaoGauss"
   ]
  },
  {
   "cell_type": "code",
   "execution_count": 6,
   "metadata": {},
   "outputs": [],
   "source": [
    "# Exercício a)\n",
    "\n",
    "a = np.array([[2,2,1,1],[1,-1,2,-1],[3,2,-3,-2],[4,3,2,1]])\n",
    "b = np.array([7,1,4,12])\n",
    "\n",
    "ex_a = MetodoEliminacaoGauss(a,b)"
   ]
  },
  {
   "cell_type": "code",
   "execution_count": 7,
   "metadata": {},
   "outputs": [
    {
     "name": "stdout",
     "output_type": "stream",
     "text": [
      "Factor in [1,0]: 0.5\n",
      "Linha i: [ 1. -1.  2. -1.  1.]\n",
      "Linha j: [2. 2. 1. 1. 7.]\n",
      "Final: [ 0.  -2.   1.5 -1.5 -2.5]\n",
      "Solution matrix on [1,0]: \n",
      " [[ 2.   2.   1.   1.   7. ]\n",
      " [ 0.  -2.   1.5 -1.5 -2.5]\n",
      " [ 3.   2.  -3.  -2.   4. ]\n",
      " [ 4.   3.   2.   1.  12. ]] \n",
      "\n",
      "Factor in [2,0]: 1.5\n",
      "Linha i: [ 3.  2. -3. -2.  4.]\n",
      "Linha j: [2. 2. 1. 1. 7.]\n",
      "Final: [ 0.  -1.  -4.5 -3.5 -6.5]\n",
      "Solution matrix on [2,0]: \n",
      " [[ 2.   2.   1.   1.   7. ]\n",
      " [ 0.  -2.   1.5 -1.5 -2.5]\n",
      " [ 0.  -1.  -4.5 -3.5 -6.5]\n",
      " [ 4.   3.   2.   1.  12. ]] \n",
      "\n",
      "Factor in [3,0]: 2.0\n",
      "Linha i: [ 4.  3.  2.  1. 12.]\n",
      "Linha j: [2. 2. 1. 1. 7.]\n",
      "Final: [ 0. -1.  0. -1. -2.]\n",
      "Solution matrix on [3,0]: \n",
      " [[ 2.   2.   1.   1.   7. ]\n",
      " [ 0.  -2.   1.5 -1.5 -2.5]\n",
      " [ 0.  -1.  -4.5 -3.5 -6.5]\n",
      " [ 0.  -1.   0.  -1.  -2. ]] \n",
      "\n",
      "Factor in [2,1]: 0.5\n",
      "Linha i: [ 0.  -1.  -4.5 -3.5 -6.5]\n",
      "Linha j: [ 0.  -2.   1.5 -1.5 -2.5]\n",
      "Final: [ 0.    0.   -5.25 -2.75 -5.25]\n",
      "Solution matrix on [2,1]: \n",
      " [[ 2.    2.    1.    1.    7.  ]\n",
      " [ 0.   -2.    1.5  -1.5  -2.5 ]\n",
      " [ 0.    0.   -5.25 -2.75 -5.25]\n",
      " [ 0.   -1.    0.   -1.   -2.  ]] \n",
      "\n",
      "Factor in [3,1]: 0.5\n",
      "Linha i: [ 0. -1.  0. -1. -2.]\n",
      "Linha j: [ 0.  -2.   1.5 -1.5 -2.5]\n",
      "Final: [ 0.    0.   -0.75 -0.25 -0.75]\n",
      "Solution matrix on [3,1]: \n",
      " [[ 2.    2.    1.    1.    7.  ]\n",
      " [ 0.   -2.    1.5  -1.5  -2.5 ]\n",
      " [ 0.    0.   -5.25 -2.75 -5.25]\n",
      " [ 0.    0.   -0.75 -0.25 -0.75]] \n",
      "\n",
      "Factor in [3,2]: 0.14285714285714285\n",
      "Linha i: [ 0.    0.   -0.75 -0.25 -0.75]\n",
      "Linha j: [ 0.    0.   -5.25 -2.75 -5.25]\n",
      "Final: [0.         0.         0.         0.14285714 0.        ]\n",
      "Solution matrix on [3,2]: \n",
      " [[ 2.          2.          1.          1.          7.        ]\n",
      " [ 0.         -2.          1.5        -1.5        -2.5       ]\n",
      " [ 0.          0.         -5.25       -2.75       -5.25      ]\n",
      " [ 0.          0.          0.          0.14285714  0.        ]] \n",
      "\n",
      "Solution Matrix:\n",
      "[[ 2.          2.          1.          1.          7.        ]\n",
      " [ 0.         -2.          1.5        -1.5        -2.5       ]\n",
      " [ 0.          0.         -5.25       -2.75       -5.25      ]\n",
      " [ 0.          0.          0.          0.14285714  0.        ]]\n",
      "AUpper:\n",
      "[[ 2.          2.          1.          1.        ]\n",
      " [ 0.         -2.          1.5        -1.5       ]\n",
      " [ 0.          0.         -5.25       -2.75      ]\n",
      " [ 0.          0.          0.          0.14285714]]\n",
      "BUpper:\n",
      "[[ 7.  ]\n",
      " [-2.5 ]\n",
      " [-5.25]\n",
      " [ 0.  ]]\n"
     ]
    }
   ],
   "source": [
    "solutionMatrix, AUpper, BUpper = ex_a.findTriangular()"
   ]
  },
  {
   "cell_type": "code",
   "execution_count": 8,
   "metadata": {},
   "outputs": [
    {
     "name": "stdout",
     "output_type": "stream",
     "text": [
      "(4, 1) (4, 4)\n",
      "Matriz é triangular superior\n",
      "Received Matrix A:\n",
      "[[ 2.          2.          1.          1.        ]\n",
      " [ 0.         -2.          1.5        -1.5       ]\n",
      " [ 0.          0.         -5.25       -2.75      ]\n",
      " [ 0.          0.          0.          0.14285714]]\n",
      "Received Vector B:\n",
      "[[ 7.  ]\n",
      " [-2.5 ]\n",
      " [-5.25]\n",
      " [ 0.  ]]\n"
     ]
    }
   ],
   "source": [
    "ex_a_solution = ResSisLin(AUpper, BUpper)"
   ]
  },
  {
   "cell_type": "code",
   "execution_count": 9,
   "metadata": {},
   "outputs": [
    {
     "name": "stdout",
     "output_type": "stream",
     "text": [
      "Variation interval for I: range(2, -1, -1) with shape (0,3)\n",
      "Initial Solution: [0. 0. 0. 0.]\n",
      "i: 2\n",
      "Solution of ([-5.25] - 0 / -5.25):\n",
      "[0. 0. 1. 0.]\n",
      "\n",
      "i: 1\n",
      "i: 1, j: 2, sum: 1.5\n",
      "Solution of ([-2.5] - 1.5 / -2.0):\n",
      "[0. 2. 1. 0.]\n",
      "\n",
      "i: 0\n",
      "i: 0, j: 1, sum: 4.0\n",
      "i: 0, j: 2, sum: 5.0\n",
      "Solution of ([7.] - 5.0 / 2.0):\n",
      "[1. 2. 1. 0.]\n",
      "\n",
      "Solution: [1. 2. 1. 0.]\n"
     ]
    }
   ],
   "source": [
    "solution = ex_a_solution.findSolution()"
   ]
  },
  {
   "cell_type": "code",
   "execution_count": 10,
   "metadata": {},
   "outputs": [],
   "source": [
    "# Ex livro\n",
    "\n",
    "exlivro_a = np.array([[3, 2, 4], [1, 1, 2], [4, 3, -2]], dtype=float)\n",
    "exlivro_b = np.array([1, 2, 3], dtype=float)\n",
    "\n",
    "gauss_exlivro = MetodoEliminacaoGauss(exlivro_a, exlivro_b)\n"
   ]
  },
  {
   "cell_type": "code",
   "execution_count": 11,
   "metadata": {},
   "outputs": [
    {
     "name": "stdout",
     "output_type": "stream",
     "text": [
      "[[ 3.  2.  4.  1.]\n",
      " [ 1.  1.  2.  2.]\n",
      " [ 4.  3. -2.  3.]]\n"
     ]
    }
   ],
   "source": [
    "print(gauss_exlivro.augmentedMatrix)"
   ]
  },
  {
   "cell_type": "code",
   "execution_count": 12,
   "metadata": {},
   "outputs": [
    {
     "name": "stdout",
     "output_type": "stream",
     "text": [
      "Factor in [1,0]: 0.3333333333333333\n",
      "Linha i: [1. 1. 2. 2.]\n",
      "Linha j: [3. 2. 4. 1.]\n",
      "Final: [0.         0.33333333 0.66666667 1.66666667]\n",
      "Solution matrix on [1,0]: \n",
      " [[ 3.          2.          4.          1.        ]\n",
      " [ 0.          0.33333333  0.66666667  1.66666667]\n",
      " [ 4.          3.         -2.          3.        ]] \n",
      "\n",
      "Factor in [2,0]: 1.3333333333333333\n",
      "Linha i: [ 4.  3. -2.  3.]\n",
      "Linha j: [3. 2. 4. 1.]\n",
      "Final: [ 0.          0.33333333 -7.33333333  1.66666667]\n",
      "Solution matrix on [2,0]: \n",
      " [[ 3.          2.          4.          1.        ]\n",
      " [ 0.          0.33333333  0.66666667  1.66666667]\n",
      " [ 0.          0.33333333 -7.33333333  1.66666667]] \n",
      "\n",
      "Factor in [2,1]: 1.0000000000000002\n",
      "Linha i: [ 0.          0.33333333 -7.33333333  1.66666667]\n",
      "Linha j: [0.         0.33333333 0.66666667 1.66666667]\n",
      "Final: [ 0.00000000e+00  5.55111512e-17 -8.00000000e+00 -4.44089210e-16]\n",
      "Solution matrix on [2,1]: \n",
      " [[ 3.00000000e+00  2.00000000e+00  4.00000000e+00  1.00000000e+00]\n",
      " [ 0.00000000e+00  3.33333333e-01  6.66666667e-01  1.66666667e+00]\n",
      " [ 0.00000000e+00  5.55111512e-17 -8.00000000e+00 -4.44089210e-16]] \n",
      "\n",
      "Solution Matrix:\n",
      "[[ 3.00000000e+00  2.00000000e+00  4.00000000e+00  1.00000000e+00]\n",
      " [ 0.00000000e+00  3.33333333e-01  6.66666667e-01  1.66666667e+00]\n",
      " [ 0.00000000e+00  5.55111512e-17 -8.00000000e+00 -4.44089210e-16]]\n",
      "AUpper:\n",
      "[[ 3.00000000e+00  2.00000000e+00  4.00000000e+00]\n",
      " [ 0.00000000e+00  3.33333333e-01  6.66666667e-01]\n",
      " [ 0.00000000e+00  5.55111512e-17 -8.00000000e+00]]\n",
      "BUpper:\n",
      "[[ 1.00000000e+00]\n",
      " [ 1.66666667e+00]\n",
      " [-4.44089210e-16]]\n",
      "[[1.        ]\n",
      " [1.66666667]\n",
      " [0.        ]]\n"
     ]
    }
   ],
   "source": [
    "solutionMatrix, AUpper, BUpper = gauss_exlivro.findTriangular()"
   ]
  },
  {
   "cell_type": "code",
   "execution_count": 13,
   "metadata": {},
   "outputs": [
    {
     "name": "stdout",
     "output_type": "stream",
     "text": [
      "A:\n",
      " [[ 3.          2.          4.        ]\n",
      " [ 0.          0.33333333  0.66666667]\n",
      " [ 0.          0.         -8.        ]]\n",
      "B:\n",
      " [[1.        ]\n",
      " [1.66666667]\n",
      " [0.        ]]\n"
     ]
    }
   ],
   "source": [
    "\n",
    "print(\"A:\\n\", AUpper)\n",
    "print(\"B:\\n\", BUpper)"
   ]
  },
  {
   "cell_type": "code",
   "execution_count": 14,
   "metadata": {},
   "outputs": [
    {
     "name": "stdout",
     "output_type": "stream",
     "text": [
      "(3, 1) (3, 3)\n",
      "Matriz é triangular superior\n",
      "Received Matrix A:\n",
      "[[ 3.          2.          4.        ]\n",
      " [ 0.          0.33333333  0.66666667]\n",
      " [ 0.          0.         -8.        ]]\n",
      "Received Vector B:\n",
      "[[1.        ]\n",
      " [1.66666667]\n",
      " [0.        ]]\n"
     ]
    }
   ],
   "source": [
    "solucao_exlivro = ResSisLin(AUpper, BUpper)"
   ]
  },
  {
   "cell_type": "code",
   "execution_count": 15,
   "metadata": {},
   "outputs": [
    {
     "name": "stdout",
     "output_type": "stream",
     "text": [
      "Variation interval for I: range(1, -1, -1) with shape (0,2)\n",
      "Initial Solution: [ 0.  0. -0.]\n",
      "i: 1\n",
      "Solution of ([1.66666667] - 0 / 0.33333333333333337):\n",
      "[ 0.  5. -0.]\n",
      "\n",
      "i: 0\n",
      "i: 0, j: 1, sum: 10.0\n",
      "Solution of ([1.] - 10.0 / 3.0):\n",
      "[-3.  5. -0.]\n",
      "\n",
      "Solution: [-3.  5. -0.]\n"
     ]
    },
    {
     "data": {
      "text/plain": [
       "array([-3.,  5., -0.])"
      ]
     },
     "execution_count": 15,
     "metadata": {},
     "output_type": "execute_result"
    }
   ],
   "source": [
    "solucao_exlivro.findSolution()"
   ]
  },
  {
   "cell_type": "code",
   "execution_count": 20,
   "metadata": {},
   "outputs": [
    {
     "name": "stdout",
     "output_type": "stream",
     "text": [
      "--Método de eliminação de Gauss--\n",
      "Encontrando triangular:\n",
      "\n",
      "Factor in [1,0]: 0.5\n",
      "Linha i: [ 1. -1.  2. -1.  1.]\n",
      "Linha j: [2. 2. 1. 1. 7.]\n",
      "Final: [ 0.  -2.   1.5 -1.5 -2.5]\n",
      "Solution matrix on [1,0]: \n",
      " [[ 2.   2.   1.   1.   7. ]\n",
      " [ 0.  -2.   1.5 -1.5 -2.5]\n",
      " [ 3.   2.  -3.  -2.   4. ]\n",
      " [ 4.   3.   2.   1.  12. ]] \n",
      "\n",
      "Factor in [2,0]: 1.5\n",
      "Linha i: [ 3.  2. -3. -2.  4.]\n",
      "Linha j: [2. 2. 1. 1. 7.]\n",
      "Final: [ 0.  -1.  -4.5 -3.5 -6.5]\n",
      "Solution matrix on [2,0]: \n",
      " [[ 2.   2.   1.   1.   7. ]\n",
      " [ 0.  -2.   1.5 -1.5 -2.5]\n",
      " [ 0.  -1.  -4.5 -3.5 -6.5]\n",
      " [ 4.   3.   2.   1.  12. ]] \n",
      "\n",
      "Factor in [3,0]: 2.0\n",
      "Linha i: [ 4.  3.  2.  1. 12.]\n",
      "Linha j: [2. 2. 1. 1. 7.]\n",
      "Final: [ 0. -1.  0. -1. -2.]\n",
      "Solution matrix on [3,0]: \n",
      " [[ 2.   2.   1.   1.   7. ]\n",
      " [ 0.  -2.   1.5 -1.5 -2.5]\n",
      " [ 0.  -1.  -4.5 -3.5 -6.5]\n",
      " [ 0.  -1.   0.  -1.  -2. ]] \n",
      "\n",
      "Factor in [2,1]: 0.5\n",
      "Linha i: [ 0.  -1.  -4.5 -3.5 -6.5]\n",
      "Linha j: [ 0.  -2.   1.5 -1.5 -2.5]\n",
      "Final: [ 0.    0.   -5.25 -2.75 -5.25]\n",
      "Solution matrix on [2,1]: \n",
      " [[ 2.    2.    1.    1.    7.  ]\n",
      " [ 0.   -2.    1.5  -1.5  -2.5 ]\n",
      " [ 0.    0.   -5.25 -2.75 -5.25]\n",
      " [ 0.   -1.    0.   -1.   -2.  ]] \n",
      "\n",
      "Factor in [3,1]: 0.5\n",
      "Linha i: [ 0. -1.  0. -1. -2.]\n",
      "Linha j: [ 0.  -2.   1.5 -1.5 -2.5]\n",
      "Final: [ 0.    0.   -0.75 -0.25 -0.75]\n",
      "Solution matrix on [3,1]: \n",
      " [[ 2.    2.    1.    1.    7.  ]\n",
      " [ 0.   -2.    1.5  -1.5  -2.5 ]\n",
      " [ 0.    0.   -5.25 -2.75 -5.25]\n",
      " [ 0.    0.   -0.75 -0.25 -0.75]] \n",
      "\n",
      "Factor in [3,2]: 0.14285714285714285\n",
      "Linha i: [ 0.    0.   -0.75 -0.25 -0.75]\n",
      "Linha j: [ 0.    0.   -5.25 -2.75 -5.25]\n",
      "Final: [0.         0.         0.         0.14285714 0.        ]\n",
      "Solution matrix on [3,2]: \n",
      " [[ 2.          2.          1.          1.          7.        ]\n",
      " [ 0.         -2.          1.5        -1.5        -2.5       ]\n",
      " [ 0.          0.         -5.25       -2.75       -5.25      ]\n",
      " [ 0.          0.          0.          0.14285714  0.        ]] \n",
      "\n",
      "Solution Matrix:\n",
      "[[ 2.          2.          1.          1.          7.        ]\n",
      " [ 0.         -2.          1.5        -1.5        -2.5       ]\n",
      " [ 0.          0.         -5.25       -2.75       -5.25      ]\n",
      " [ 0.          0.          0.          0.14285714  0.        ]]\n",
      "AUpper:\n",
      "[[ 2.          2.          1.          1.        ]\n",
      " [ 0.         -2.          1.5        -1.5       ]\n",
      " [ 0.          0.         -5.25       -2.75      ]\n",
      " [ 0.          0.          0.          0.14285714]]\n",
      "BUpper:\n",
      "[[ 7.  ]\n",
      " [-2.5 ]\n",
      " [-5.25]\n",
      " [ 0.  ]]\n"
     ]
    }
   ],
   "source": [
    "# Ex 1 da aula 27/5\n",
    "ex1_a = np.array([[2,2,1,1],[1,-1,2,-1],[3,2,-3,-2],[4,3,2,1]])\n",
    "ex1_b = np.array([7,1,4,12])\n",
    "\n",
    "print(\"--Método de eliminação de Gauss--\")\n",
    "gauss_ex1 = MetodoEliminacaoGauss(ex1_a, ex1_b)\n",
    "\n",
    "print(\"Encontrando triangular:\\n\")\n",
    "solutionMatrix, AUpper_ex1, BUpper_ex1 = gauss_ex1.findTriangular()\n",
    "\n",
    "print(\"--Solucao do sistema--\")\n",
    "solucao_ex1 = ResSisLin(AUpper_ex1, BUpper_ex1)\n",
    "solucao_ex1.findSolution()"
   ]
  },
  {
   "cell_type": "code",
   "execution_count": 19,
   "metadata": {},
   "outputs": [
    {
     "name": "stdout",
     "output_type": "stream",
     "text": [
      "--Método de eliminação de Gauss--\n",
      "Encontrando triangular:\n",
      "\n",
      "Factor in [1,0]: -2.0\n",
      "Linha i: [-6.  4. -8.  1. -9.]\n",
      "Linha j: [ 3. -2.  5.  1.  7.]\n",
      "Final: [0. 0. 2. 3. 5.]\n",
      "Solution matrix on [1,0]: \n",
      " [[ 3. -2.  5.  1.  7.]\n",
      " [ 0.  0.  2.  3.  5.]\n",
      " [ 9. -6. 19.  1. 23.]\n",
      " [ 6. -4. -6. 15. 11.]] \n",
      "\n",
      "Factor in [2,0]: 3.0\n",
      "Linha i: [ 9. -6. 19.  1. 23.]\n",
      "Linha j: [ 3. -2.  5.  1.  7.]\n",
      "Final: [ 0.  0.  4. -2.  2.]\n",
      "Solution matrix on [2,0]: \n",
      " [[ 3. -2.  5.  1.  7.]\n",
      " [ 0.  0.  2.  3.  5.]\n",
      " [ 0.  0.  4. -2.  2.]\n",
      " [ 6. -4. -6. 15. 11.]] \n",
      "\n",
      "Factor in [3,0]: 2.0\n",
      "Linha i: [ 6. -4. -6. 15. 11.]\n",
      "Linha j: [ 3. -2.  5.  1.  7.]\n",
      "Final: [  0.   0. -16.  13.  -3.]\n",
      "Solution matrix on [3,0]: \n",
      " [[  3.  -2.   5.   1.   7.]\n",
      " [  0.   0.   2.   3.   5.]\n",
      " [  0.   0.   4.  -2.   2.]\n",
      " [  0.   0. -16.  13.  -3.]] \n",
      "\n",
      "Factor in [2,1]: nan\n",
      "Linha i: [ 0.  0.  4. -2.  2.]\n",
      "Linha j: [0. 0. 2. 3. 5.]\n",
      "Final: [nan nan nan nan nan]\n",
      "Solution matrix on [2,1]: \n",
      " [[  3.  -2.   5.   1.   7.]\n",
      " [  0.   0.   2.   3.   5.]\n",
      " [ nan  nan  nan  nan  nan]\n",
      " [  0.   0. -16.  13.  -3.]] \n",
      "\n",
      "Factor in [3,1]: nan\n",
      "Linha i: [  0.   0. -16.  13.  -3.]\n",
      "Linha j: [0. 0. 2. 3. 5.]\n",
      "Final: [nan nan nan nan nan]\n",
      "Solution matrix on [3,1]: \n",
      " [[ 3. -2.  5.  1.  7.]\n",
      " [ 0.  0.  2.  3.  5.]\n",
      " [nan nan nan nan nan]\n",
      " [nan nan nan nan nan]] \n",
      "\n",
      "Factor in [3,2]: nan\n",
      "Linha i: [nan nan nan nan nan]\n",
      "Linha j: [nan nan nan nan nan]\n",
      "Final: [nan nan nan nan nan]\n",
      "Solution matrix on [3,2]: \n",
      " [[ 3. -2.  5.  1.  7.]\n",
      " [ 0.  0.  2.  3.  5.]\n",
      " [nan nan nan nan nan]\n",
      " [nan nan nan nan nan]] \n",
      "\n",
      "Solution Matrix:\n",
      "[[ 3. -2.  5.  1.  7.]\n",
      " [ 0.  0.  2.  3.  5.]\n",
      " [nan nan nan nan nan]\n",
      " [nan nan nan nan nan]]\n",
      "AUpper:\n",
      "[[ 3. -2.  5.  1.]\n",
      " [ 0.  0.  2.  3.]\n",
      " [nan nan nan nan]\n",
      " [nan nan nan nan]]\n",
      "BUpper:\n",
      "[[ 7.]\n",
      " [ 5.]\n",
      " [nan]\n",
      " [nan]]\n"
     ]
    },
    {
     "name": "stderr",
     "output_type": "stream",
     "text": [
      "/home/tone/www/ufsm/cadeiras/metodos-numericos/lib/sis_eq_lin/met_eliminacao_gauss.py:30: RuntimeWarning: invalid value encountered in scalar divide\n",
      "  factor = self.solutionMatrix[i][j] / self.solutionMatrix[j][j]\n"
     ]
    }
   ],
   "source": [
    "# Ex 2 da aula 27/5 - depende de pivotamento\n",
    "\n",
    "pivo_a = np.array([[3, -2, 5, 1], [-6, 4, -8, 1], [9, -6, 19, 1], [6, -4, -6, 15]])\n",
    "\n",
    "pivo_b = np.array([7, -9, 23, 11])\n",
    "\n",
    "print(\"--Método de eliminação de Gauss--\")\n",
    "gauss_pivo = MetodoEliminacaoGauss(pivo_a, pivo_b)\n",
    "\n",
    "print(\"Encontrando triangular:\\n\")\n",
    "solutionMatrix, AUpperPivo, BUpperPivo = gauss_pivo.findTriangular()"
   ]
  },
  {
   "cell_type": "code",
   "execution_count": null,
   "metadata": {},
   "outputs": [],
   "source": [
    "print(\"--Solucao do sistema--\")\n",
    "solucao_pivo = ResSisLin(AUpperPivo, BUpperPivo)\n",
    "solucao_pivo.findSolution()"
   ]
  }
 ],
 "metadata": {
  "kernelspec": {
   "display_name": "venv",
   "language": "python",
   "name": "python3"
  },
  "language_info": {
   "codemirror_mode": {
    "name": "ipython",
    "version": 3
   },
   "file_extension": ".py",
   "mimetype": "text/x-python",
   "name": "python",
   "nbconvert_exporter": "python",
   "pygments_lexer": "ipython3",
   "version": "3.10.12"
  }
 },
 "nbformat": 4,
 "nbformat_minor": 2
}
