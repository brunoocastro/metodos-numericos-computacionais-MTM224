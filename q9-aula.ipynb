{
 "cells": [
  {
   "cell_type": "code",
   "execution_count": null,
   "metadata": {},
   "outputs": [],
   "source": [
    "# Determine uma raiz não-nula com epsilon <= 0.01\n",
    "\n",
    "from lib.Plotter import Plotter\n",
    "\n",
    "epsilon = 0.01\n",
    "\n",
    "q9 = lambda x: x - (2**-x)\n",
    "\n",
    "q9_plot = Plotter(q9)\n",
    "\n",
    "print(\"Função a ser avaliada. Intervalo [-1,1]\")\n",
    "q9_plot.plot_functions(-1,1)"
   ]
  },
  {
   "cell_type": "markdown",
   "metadata": {},
   "source": [
    " # Analise pelo método gráfico\n",
    " Pelo método gráfico, dada uma função $f(x)$, igualamos a função a zero e decompomos em duas funções, de forma a termos $g(x)$ e $h(x)$.\n",
    " Ao plotar $g(x)$ e $h(x)$ no mesmo plano, caso haja uma interseção nos gráficos, esta é uma raiz da função.\n",
    "\n",
    "1. $f(x) = x - 2^{-x}$\n",
    "\n",
    "2. $x - 2^{-x} = 0$\n",
    "\n",
    "3. $x = 2^{-x}$\n",
    "\n",
    "4. $g(x) = h(x)$ \n",
    "\n",
    "5. $g(x) = x$ e $h(x) = 2^{-x}$"
   ]
  },
  {
   "cell_type": "code",
   "execution_count": null,
   "metadata": {},
   "outputs": [],
   "source": [
    "met_grafico = Plotter([lambda x: x, lambda y: 2**-y])\n",
    "met_grafico.plot_functions(0.5,0.8)"
   ]
  },
  {
   "cell_type": "code",
   "execution_count": null,
   "metadata": {},
   "outputs": [],
   "source": [
    "from lib.bissecao import Bissecao\n",
    "\n",
    "a,b = Bissecao.has_solution(q9, 0.05)\n",
    "\n",
    "print(f\"Existe solução no intervalo a={a} e b={b}\")"
   ]
  },
  {
   "cell_type": "code",
   "execution_count": null,
   "metadata": {},
   "outputs": [],
   "source": [
    "a_selecionado = 0.6\n",
    "b_selecionado = 0.7\n",
    "q9_bissecao = Bissecao(q9, a_selecionado, b_selecionado,epsilon)\n",
    "\n",
    "n_iteracoes = q9_bissecao.estimate_iterations()"
   ]
  },
  {
   "cell_type": "code",
   "execution_count": null,
   "metadata": {},
   "outputs": [],
   "source": [
    "q9_bissecao.calculate_root()"
   ]
  },
  {
   "cell_type": "code",
   "execution_count": null,
   "metadata": {},
   "outputs": [],
   "source": [
    "q9_bissecao.show_final_table()"
   ]
  },
  {
   "cell_type": "code",
   "execution_count": null,
   "metadata": {},
   "outputs": [],
   "source": [
    "q9_bissecao.show_method_progression()"
   ]
  }
 ],
 "metadata": {
  "kernelspec": {
   "display_name": "venv",
   "language": "python",
   "name": "python3"
  },
  "language_info": {
   "codemirror_mode": {
    "name": "ipython",
    "version": 3
   },
   "file_extension": ".py",
   "mimetype": "text/x-python",
   "name": "python",
   "nbconvert_exporter": "python",
   "pygments_lexer": "ipython3",
   "version": "3.10.12"
  }
 },
 "nbformat": 4,
 "nbformat_minor": 2
}
